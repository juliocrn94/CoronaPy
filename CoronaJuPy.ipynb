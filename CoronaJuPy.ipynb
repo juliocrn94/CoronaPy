{
 "cells": [
  {
   "cell_type": "code",
   "execution_count": 60,
   "metadata": {},
   "outputs": [],
   "source": [
    "# Import libs\n",
    "\n",
    "from bs4 import BeautifulSoup as bs\n",
    "import pandas as pd\n",
    "import requests\n",
    "import csv"
   ]
  },
  {
   "cell_type": "code",
   "execution_count": 63,
   "metadata": {},
   "outputs": [],
   "source": [
    "# Time series CSV Urls ( Updated twice daily )\n",
    "conf_url =  'https://raw.githubusercontent.com/CSSEGISandData/COVID-19/master/time_series/time_series_2019-ncov-Confirmed.csv'\n",
    "death_url = 'https://raw.githubusercontent.com/CSSEGISandData/COVID-19/master/time_series/time_series_2019-ncov-Deaths.csv'\n",
    "recov_url = 'https://raw.githubusercontent.com/CSSEGISandData/COVID-19/master/time_series/time_series_2019-ncov-Recovered.csv'\n",
    "\n",
    "# Building Dataframes\n",
    "conf_d  =pd.read_csv(conf_url)\n",
    "death_d  =pd.read_csv(death_url)\n",
    "recov_d  =pd.read_csv(recov_url)\n",
    "\n"
   ]
  },
  {
   "cell_type": "code",
   "execution_count": 64,
   "metadata": {},
   "outputs": [
    {
     "data": {
      "text/html": [
       "<div>\n",
       "<style scoped>\n",
       "    .dataframe tbody tr th:only-of-type {\n",
       "        vertical-align: middle;\n",
       "    }\n",
       "\n",
       "    .dataframe tbody tr th {\n",
       "        vertical-align: top;\n",
       "    }\n",
       "\n",
       "    .dataframe thead th {\n",
       "        text-align: right;\n",
       "    }\n",
       "</style>\n",
       "<table border=\"1\" class=\"dataframe\">\n",
       "  <thead>\n",
       "    <tr style=\"text-align: right;\">\n",
       "      <th></th>\n",
       "      <th>Province/State</th>\n",
       "      <th>Country/Region</th>\n",
       "      <th>Lat</th>\n",
       "      <th>Long</th>\n",
       "      <th>1/21/20 22:00</th>\n",
       "      <th>1/22/20 12:00</th>\n",
       "      <th>1/23/20 12:00</th>\n",
       "      <th>1/24/20 0:00</th>\n",
       "      <th>1/24/20 12:00</th>\n",
       "      <th>1/25/20 0:00</th>\n",
       "      <th>...</th>\n",
       "      <th>2/6/20 14:20</th>\n",
       "      <th>2/7/20 20:13</th>\n",
       "      <th>2/7/20 22:50</th>\n",
       "      <th>2/8/20 22:04</th>\n",
       "      <th>2/8/20 23:04</th>\n",
       "      <th>2/9/20 10:30</th>\n",
       "      <th>2/9/20 23:20</th>\n",
       "      <th>2/10/20 10:30</th>\n",
       "      <th>2/10/20 19:30</th>\n",
       "      <th>2/11/20 10:50</th>\n",
       "    </tr>\n",
       "  </thead>\n",
       "  <tbody>\n",
       "    <tr>\n",
       "      <th>0</th>\n",
       "      <td>Anhui</td>\n",
       "      <td>Mainland China</td>\n",
       "      <td>31.82571</td>\n",
       "      <td>117.2264</td>\n",
       "      <td>NaN</td>\n",
       "      <td>1.0</td>\n",
       "      <td>9.0</td>\n",
       "      <td>15.0</td>\n",
       "      <td>15.0</td>\n",
       "      <td>39.0</td>\n",
       "      <td>...</td>\n",
       "      <td>591.0</td>\n",
       "      <td>665.0</td>\n",
       "      <td>733.0</td>\n",
       "      <td>733.0</td>\n",
       "      <td>779.0</td>\n",
       "      <td>779.0</td>\n",
       "      <td>830.0</td>\n",
       "      <td>830.0</td>\n",
       "      <td>830.0</td>\n",
       "      <td>860</td>\n",
       "    </tr>\n",
       "    <tr>\n",
       "      <th>1</th>\n",
       "      <td>Beijing</td>\n",
       "      <td>Mainland China</td>\n",
       "      <td>40.18238</td>\n",
       "      <td>116.4142</td>\n",
       "      <td>10.0</td>\n",
       "      <td>14.0</td>\n",
       "      <td>22.0</td>\n",
       "      <td>26.0</td>\n",
       "      <td>36.0</td>\n",
       "      <td>36.0</td>\n",
       "      <td>...</td>\n",
       "      <td>274.0</td>\n",
       "      <td>297.0</td>\n",
       "      <td>315.0</td>\n",
       "      <td>315.0</td>\n",
       "      <td>326.0</td>\n",
       "      <td>326.0</td>\n",
       "      <td>337.0</td>\n",
       "      <td>337.0</td>\n",
       "      <td>337.0</td>\n",
       "      <td>342</td>\n",
       "    </tr>\n",
       "    <tr>\n",
       "      <th>2</th>\n",
       "      <td>Chongqing</td>\n",
       "      <td>Mainland China</td>\n",
       "      <td>30.05718</td>\n",
       "      <td>107.8740</td>\n",
       "      <td>5.0</td>\n",
       "      <td>6.0</td>\n",
       "      <td>9.0</td>\n",
       "      <td>27.0</td>\n",
       "      <td>27.0</td>\n",
       "      <td>57.0</td>\n",
       "      <td>...</td>\n",
       "      <td>400.0</td>\n",
       "      <td>415.0</td>\n",
       "      <td>426.0</td>\n",
       "      <td>428.0</td>\n",
       "      <td>446.0</td>\n",
       "      <td>450.0</td>\n",
       "      <td>468.0</td>\n",
       "      <td>473.0</td>\n",
       "      <td>486.0</td>\n",
       "      <td>489</td>\n",
       "    </tr>\n",
       "    <tr>\n",
       "      <th>3</th>\n",
       "      <td>Fujian</td>\n",
       "      <td>Mainland China</td>\n",
       "      <td>26.07783</td>\n",
       "      <td>117.9895</td>\n",
       "      <td>NaN</td>\n",
       "      <td>1.0</td>\n",
       "      <td>5.0</td>\n",
       "      <td>5.0</td>\n",
       "      <td>10.0</td>\n",
       "      <td>10.0</td>\n",
       "      <td>...</td>\n",
       "      <td>215.0</td>\n",
       "      <td>224.0</td>\n",
       "      <td>239.0</td>\n",
       "      <td>239.0</td>\n",
       "      <td>250.0</td>\n",
       "      <td>250.0</td>\n",
       "      <td>261.0</td>\n",
       "      <td>261.0</td>\n",
       "      <td>261.0</td>\n",
       "      <td>267</td>\n",
       "    </tr>\n",
       "    <tr>\n",
       "      <th>4</th>\n",
       "      <td>Gansu</td>\n",
       "      <td>Mainland China</td>\n",
       "      <td>36.06110</td>\n",
       "      <td>103.8343</td>\n",
       "      <td>NaN</td>\n",
       "      <td>NaN</td>\n",
       "      <td>2.0</td>\n",
       "      <td>2.0</td>\n",
       "      <td>2.0</td>\n",
       "      <td>4.0</td>\n",
       "      <td>...</td>\n",
       "      <td>62.0</td>\n",
       "      <td>67.0</td>\n",
       "      <td>71.0</td>\n",
       "      <td>79.0</td>\n",
       "      <td>79.0</td>\n",
       "      <td>79.0</td>\n",
       "      <td>83.0</td>\n",
       "      <td>83.0</td>\n",
       "      <td>86.0</td>\n",
       "      <td>86</td>\n",
       "    </tr>\n",
       "  </tbody>\n",
       "</table>\n",
       "<p>5 rows × 43 columns</p>\n",
       "</div>"
      ],
      "text/plain": [
       "  Province/State  Country/Region       Lat      Long  1/21/20 22:00  \\\n",
       "0          Anhui  Mainland China  31.82571  117.2264            NaN   \n",
       "1        Beijing  Mainland China  40.18238  116.4142           10.0   \n",
       "2      Chongqing  Mainland China  30.05718  107.8740            5.0   \n",
       "3         Fujian  Mainland China  26.07783  117.9895            NaN   \n",
       "4          Gansu  Mainland China  36.06110  103.8343            NaN   \n",
       "\n",
       "   1/22/20 12:00  1/23/20 12:00  1/24/20 0:00  1/24/20 12:00  1/25/20 0:00  \\\n",
       "0            1.0            9.0          15.0           15.0          39.0   \n",
       "1           14.0           22.0          26.0           36.0          36.0   \n",
       "2            6.0            9.0          27.0           27.0          57.0   \n",
       "3            1.0            5.0           5.0           10.0          10.0   \n",
       "4            NaN            2.0           2.0            2.0           4.0   \n",
       "\n",
       "   ...  2/6/20 14:20  2/7/20 20:13  2/7/20 22:50  2/8/20 22:04  2/8/20 23:04  \\\n",
       "0  ...         591.0         665.0         733.0         733.0         779.0   \n",
       "1  ...         274.0         297.0         315.0         315.0         326.0   \n",
       "2  ...         400.0         415.0         426.0         428.0         446.0   \n",
       "3  ...         215.0         224.0         239.0         239.0         250.0   \n",
       "4  ...          62.0          67.0          71.0          79.0          79.0   \n",
       "\n",
       "   2/9/20 10:30  2/9/20 23:20  2/10/20 10:30  2/10/20 19:30  2/11/20 10:50  \n",
       "0         779.0         830.0          830.0          830.0            860  \n",
       "1         326.0         337.0          337.0          337.0            342  \n",
       "2         450.0         468.0          473.0          486.0            489  \n",
       "3         250.0         261.0          261.0          261.0            267  \n",
       "4          79.0          83.0           83.0           86.0             86  \n",
       "\n",
       "[5 rows x 43 columns]"
      ]
     },
     "execution_count": 64,
     "metadata": {},
     "output_type": "execute_result"
    }
   ],
   "source": [
    "conf_d.head()\n",
    "#death_d.head()\n",
    "#recov_d.head()"
   ]
  },
  {
   "cell_type": "markdown",
   "metadata": {},
   "source": [
    "# Beta\n",
    "## Scope:\n",
    "\n",
    "* Total Confirmed\n",
    "* Confirmed by Country/Region\n",
    "* Total Deaths\n",
    "* Deaths by Country/Region\n",
    "* Total Recovered\n",
    "* Recovered by Country/Region\n"
   ]
  },
  {
   "cell_type": "code",
   "execution_count": 65,
   "metadata": {},
   "outputs": [],
   "source": [
    "# Total Confirmed\n",
    "\n",
    "conf_d_NumOnly = conf_d.drop(['Lat','Long'], axis =1 )\n",
    "conf_d_NumOnly['Total_Conf']=conf_d_NumOnly.iloc[:,-1]\n",
    "tot_conf = conf_d_NumOnly['Total_Conf'].sum()\n",
    "#conf_d_NumOnly.head()"
   ]
  },
  {
   "cell_type": "code",
   "execution_count": 67,
   "metadata": {},
   "outputs": [
    {
     "data": {
      "text/plain": [
       "43141"
      ]
     },
     "execution_count": 67,
     "metadata": {},
     "output_type": "execute_result"
    }
   ],
   "source": [
    "tot_conf"
   ]
  },
  {
   "cell_type": "code",
   "execution_count": 79,
   "metadata": {},
   "outputs": [
    {
     "data": {
      "text/plain": [
       "Country/Region\n",
       "Mainland China    42670\n",
       "Others              135\n",
       "Hong Kong            49\n",
       "Singapore            45\n",
       "Thailand             32\n",
       "Name: Total_Conf, dtype: int64"
      ]
     },
     "execution_count": 79,
     "metadata": {},
     "output_type": "execute_result"
    }
   ],
   "source": [
    "# Confirmed by Country\n",
    "conf_d_country = conf_d_NumOnly.groupby(['Country/Region']).sum()['Total_Conf'].sort_values(ascending=False)\n",
    "\n",
    "conf_d_country.head()\n",
    "#conf_d_country.loc['Hong Kong']"
   ]
  },
  {
   "cell_type": "markdown",
   "metadata": {},
   "source": [
    "## Functions\n",
    "### For getting TOTAL and DF by Country"
   ]
  },
  {
   "cell_type": "code",
   "execution_count": 84,
   "metadata": {},
   "outputs": [],
   "source": [
    "def get_total(df):\n",
    "    #conf_d_NumOnly = conf_d.drop(['Lat','Long'], axis =1 )\n",
    "    df['Total_Conf']=df.iloc[:,-1]\n",
    "    tot_conf = df['Total_Conf'].sum()\n",
    "    \n",
    "    return tot_conf"
   ]
  },
  {
   "cell_type": "code",
   "execution_count": 85,
   "metadata": {},
   "outputs": [],
   "source": [
    "def get_occr_country(df):\n",
    "    #conf_d_NumOnly = conf_d.drop(['Lat','Long'], axis =1 )\n",
    "    df['Total_Conf']=df.iloc[:,-1]    \n",
    "    df = df.groupby(['Country/Region']).sum()['Total_Conf'].sort_values(ascending=False)\n",
    "    \n",
    "    return df #returns DF"
   ]
  },
  {
   "cell_type": "code",
   "execution_count": 86,
   "metadata": {},
   "outputs": [
    {
     "name": "stdout",
     "output_type": "stream",
     "text": [
      "43141\n",
      "1018\n",
      "4340\n"
     ]
    }
   ],
   "source": [
    "tot_conf = get_total(conf_d)\n",
    "tot_death = get_total(death_d)\n",
    "tot_recov = get_total(recov_d)\n",
    "print(tot_conf)\n",
    "print(tot_death)\n",
    "print(tot_recov)\n"
   ]
  },
  {
   "cell_type": "code",
   "execution_count": 89,
   "metadata": {},
   "outputs": [],
   "source": [
    "occr_conf = get_occr_country(conf_d)\n",
    "occr_death = get_occr_country(death_d)\n",
    "occr_recov = get_occr_country(recov_d)\n",
    "#print(occr_conf)\n",
    "#print(occr_death)\n",
    "#print(occr_recov)\n"
   ]
  },
  {
   "cell_type": "markdown",
   "metadata": {},
   "source": [
    "# Compiling code "
   ]
  },
  {
   "cell_type": "code",
   "execution_count": 90,
   "metadata": {},
   "outputs": [
    {
     "name": "stdout",
     "output_type": "stream",
     "text": [
      "43141\n"
     ]
    }
   ],
   "source": [
    "# Import Libs\n",
    "import pandas as pd\n",
    "\n",
    "# Functions\n",
    "def get_total(df):\n",
    "    #conf_d_NumOnly = conf_d.drop(['Lat','Long'], axis =1 )\n",
    "    df['Total_Conf']=df.iloc[:,-1]\n",
    "    tot_conf = df['Total_Conf'].sum()\n",
    "    \n",
    "    return tot_conf\n",
    "\n",
    "def get_occr_country(df):\n",
    "    #conf_d_NumOnly = conf_d.drop(['Lat','Long'], axis =1 )\n",
    "    df['Total_Conf']=df.iloc[:,-1]    \n",
    "    df = df.groupby(['Country/Region']).sum()['Total_Conf'].sort_values(ascending=False)\n",
    "    \n",
    "    return df #returns DF\n",
    "\n",
    "tot_conf = get_total(conf_d)\n",
    "tot_death = get_total(death_d)\n",
    "tot_recov = get_total(recov_d)\n",
    "\n",
    "occr_conf = get_occr_country(conf_d)\n",
    "occr_death = get_occr_country(death_d)\n",
    "occr_recov = get_occr_country(recov_d)\n",
    "\n",
    "# Time series CSV Urls ( Updated twice daily )\n",
    "conf_url =  'https://raw.githubusercontent.com/CSSEGISandData/COVID-19/master/time_series/time_series_2019-ncov-Confirmed.csv'\n",
    "death_url = 'https://raw.githubusercontent.com/CSSEGISandData/COVID-19/master/time_series/time_series_2019-ncov-Deaths.csv'\n",
    "recov_url = 'https://raw.githubusercontent.com/CSSEGISandData/COVID-19/master/time_series/time_series_2019-ncov-Recovered.csv'\n",
    "\n",
    "# Building Dataframes\n",
    "conf_d  =pd.read_csv(conf_url)\n",
    "death_d  =pd.read_csv(death_url)\n",
    "recov_d  =pd.read_csv(recov_url)\n",
    "\n",
    "# Getting Basic Variables for Dictionary\n",
    "tot_conf = get_total(conf_d)\n",
    "tot_death = get_total(death_d)\n",
    "tot_recov = get_total(recov_d)\n",
    "\n",
    "occr_conf = get_occr_country(conf_d)\n",
    "occr_death = get_occr_country(death_d)\n",
    "occr_recov = get_occr_country(recov_d)\n",
    "\n",
    "print('Total Confirmed Cases: {}'.format(tot_conf))\n",
    "print('Total Deaths: {}'.format(tot_death))\n",
    "print('Total Recovery Cases: {}'.format(tot_recov))\n",
    "#occr_conf.head()\n",
    "#occr_death.head()\n",
    "#occr_recov.head()\n",
    "\n",
    "\n",
    "# Connecting to DynamoDb\n",
    "\n",
    "\n"
   ]
  },
  {
   "cell_type": "code",
   "execution_count": null,
   "metadata": {},
   "outputs": [],
   "source": []
  }
 ],
 "metadata": {
  "kernelspec": {
   "display_name": "Python 3",
   "language": "python",
   "name": "python3"
  },
  "language_info": {
   "codemirror_mode": {
    "name": "ipython",
    "version": 3
   },
   "file_extension": ".py",
   "mimetype": "text/x-python",
   "name": "python",
   "nbconvert_exporter": "python",
   "pygments_lexer": "ipython3",
   "version": "3.7.3"
  }
 },
 "nbformat": 4,
 "nbformat_minor": 2
}
