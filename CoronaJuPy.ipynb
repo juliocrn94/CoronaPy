{
 "cells": [
  {
   "cell_type": "code",
   "execution_count": 1,
   "metadata": {},
   "outputs": [],
   "source": [
    "# Import libs\n",
    "\n",
    "from bs4 import BeautifulSoup as bs\n",
    "import pandas as pd\n",
    "import requests\n",
    "import csv\n",
    "import boto3"
   ]
  },
  {
   "cell_type": "code",
   "execution_count": 17,
   "metadata": {},
   "outputs": [],
   "source": [
    "# Time series CSV Urls ( Updated twice daily )\n",
    "conf_url =  'https://raw.githubusercontent.com/CSSEGISandData/COVID-19/master/csse_covid_19_data/csse_covid_19_time_series/time_series_19-covid-Confirmed.csv'\n",
    "death_url = 'https://raw.githubusercontent.com/CSSEGISandData/COVID-19/master/csse_covid_19_data/csse_covid_19_time_series/time_series_19-covid-Deaths.csv'\n",
    "recov_url = 'https://raw.githubusercontent.com/CSSEGISandData/COVID-19/master/csse_covid_19_data/csse_covid_19_time_series/time_series_19-covid-Recovered.csv'\n",
    "\n",
    "# Building Dataframes\n",
    "conf_d  =pd.read_csv(conf_url)\n",
    "death_d  =pd.read_csv(death_url)\n",
    "recov_d  =pd.read_csv(recov_url)\n",
    "\n"
   ]
  },
  {
   "cell_type": "code",
   "execution_count": 18,
   "metadata": {},
   "outputs": [
    {
     "data": {
      "text/html": [
       "<div>\n",
       "<style scoped>\n",
       "    .dataframe tbody tr th:only-of-type {\n",
       "        vertical-align: middle;\n",
       "    }\n",
       "\n",
       "    .dataframe tbody tr th {\n",
       "        vertical-align: top;\n",
       "    }\n",
       "\n",
       "    .dataframe thead th {\n",
       "        text-align: right;\n",
       "    }\n",
       "</style>\n",
       "<table border=\"1\" class=\"dataframe\">\n",
       "  <thead>\n",
       "    <tr style=\"text-align: right;\">\n",
       "      <th></th>\n",
       "      <th>Province/State</th>\n",
       "      <th>Country/Region</th>\n",
       "      <th>Lat</th>\n",
       "      <th>Long</th>\n",
       "      <th>1/22/20</th>\n",
       "      <th>1/23/20</th>\n",
       "      <th>1/24/20</th>\n",
       "      <th>1/25/20</th>\n",
       "      <th>1/26/20</th>\n",
       "      <th>1/27/20</th>\n",
       "      <th>...</th>\n",
       "      <th>2/8/20</th>\n",
       "      <th>2/9/20</th>\n",
       "      <th>2/10/20</th>\n",
       "      <th>2/11/20</th>\n",
       "      <th>2/12/20</th>\n",
       "      <th>2/13/20</th>\n",
       "      <th>2/14/20</th>\n",
       "      <th>2/15/20</th>\n",
       "      <th>2/16/20</th>\n",
       "      <th>2/17/20</th>\n",
       "    </tr>\n",
       "  </thead>\n",
       "  <tbody>\n",
       "    <tr>\n",
       "      <th>0</th>\n",
       "      <td>Anhui</td>\n",
       "      <td>Mainland China</td>\n",
       "      <td>31.82571</td>\n",
       "      <td>117.2264</td>\n",
       "      <td>1</td>\n",
       "      <td>9</td>\n",
       "      <td>15</td>\n",
       "      <td>39</td>\n",
       "      <td>60</td>\n",
       "      <td>70</td>\n",
       "      <td>...</td>\n",
       "      <td>733</td>\n",
       "      <td>779</td>\n",
       "      <td>830</td>\n",
       "      <td>860</td>\n",
       "      <td>889</td>\n",
       "      <td>910</td>\n",
       "      <td>934</td>\n",
       "      <td>950</td>\n",
       "      <td>962</td>\n",
       "      <td>973</td>\n",
       "    </tr>\n",
       "    <tr>\n",
       "      <th>1</th>\n",
       "      <td>Beijing</td>\n",
       "      <td>Mainland China</td>\n",
       "      <td>40.18238</td>\n",
       "      <td>116.4142</td>\n",
       "      <td>14</td>\n",
       "      <td>22</td>\n",
       "      <td>36</td>\n",
       "      <td>41</td>\n",
       "      <td>68</td>\n",
       "      <td>80</td>\n",
       "      <td>...</td>\n",
       "      <td>315</td>\n",
       "      <td>326</td>\n",
       "      <td>337</td>\n",
       "      <td>342</td>\n",
       "      <td>352</td>\n",
       "      <td>366</td>\n",
       "      <td>372</td>\n",
       "      <td>375</td>\n",
       "      <td>380</td>\n",
       "      <td>381</td>\n",
       "    </tr>\n",
       "    <tr>\n",
       "      <th>2</th>\n",
       "      <td>Chongqing</td>\n",
       "      <td>Mainland China</td>\n",
       "      <td>30.05718</td>\n",
       "      <td>107.8740</td>\n",
       "      <td>6</td>\n",
       "      <td>9</td>\n",
       "      <td>27</td>\n",
       "      <td>57</td>\n",
       "      <td>75</td>\n",
       "      <td>110</td>\n",
       "      <td>...</td>\n",
       "      <td>428</td>\n",
       "      <td>468</td>\n",
       "      <td>486</td>\n",
       "      <td>505</td>\n",
       "      <td>518</td>\n",
       "      <td>529</td>\n",
       "      <td>537</td>\n",
       "      <td>544</td>\n",
       "      <td>551</td>\n",
       "      <td>553</td>\n",
       "    </tr>\n",
       "    <tr>\n",
       "      <th>3</th>\n",
       "      <td>Fujian</td>\n",
       "      <td>Mainland China</td>\n",
       "      <td>26.07783</td>\n",
       "      <td>117.9895</td>\n",
       "      <td>1</td>\n",
       "      <td>5</td>\n",
       "      <td>10</td>\n",
       "      <td>18</td>\n",
       "      <td>35</td>\n",
       "      <td>59</td>\n",
       "      <td>...</td>\n",
       "      <td>239</td>\n",
       "      <td>250</td>\n",
       "      <td>261</td>\n",
       "      <td>267</td>\n",
       "      <td>272</td>\n",
       "      <td>279</td>\n",
       "      <td>281</td>\n",
       "      <td>285</td>\n",
       "      <td>287</td>\n",
       "      <td>290</td>\n",
       "    </tr>\n",
       "    <tr>\n",
       "      <th>4</th>\n",
       "      <td>Gansu</td>\n",
       "      <td>Mainland China</td>\n",
       "      <td>36.06110</td>\n",
       "      <td>103.8343</td>\n",
       "      <td>0</td>\n",
       "      <td>2</td>\n",
       "      <td>2</td>\n",
       "      <td>4</td>\n",
       "      <td>7</td>\n",
       "      <td>14</td>\n",
       "      <td>...</td>\n",
       "      <td>79</td>\n",
       "      <td>83</td>\n",
       "      <td>83</td>\n",
       "      <td>86</td>\n",
       "      <td>87</td>\n",
       "      <td>90</td>\n",
       "      <td>90</td>\n",
       "      <td>90</td>\n",
       "      <td>90</td>\n",
       "      <td>91</td>\n",
       "    </tr>\n",
       "  </tbody>\n",
       "</table>\n",
       "<p>5 rows × 31 columns</p>\n",
       "</div>"
      ],
      "text/plain": [
       "  Province/State  Country/Region       Lat      Long  1/22/20  1/23/20  \\\n",
       "0          Anhui  Mainland China  31.82571  117.2264        1        9   \n",
       "1        Beijing  Mainland China  40.18238  116.4142       14       22   \n",
       "2      Chongqing  Mainland China  30.05718  107.8740        6        9   \n",
       "3         Fujian  Mainland China  26.07783  117.9895        1        5   \n",
       "4          Gansu  Mainland China  36.06110  103.8343        0        2   \n",
       "\n",
       "   1/24/20  1/25/20  1/26/20  1/27/20  ...  2/8/20  2/9/20  2/10/20  2/11/20  \\\n",
       "0       15       39       60       70  ...     733     779      830      860   \n",
       "1       36       41       68       80  ...     315     326      337      342   \n",
       "2       27       57       75      110  ...     428     468      486      505   \n",
       "3       10       18       35       59  ...     239     250      261      267   \n",
       "4        2        4        7       14  ...      79      83       83       86   \n",
       "\n",
       "   2/12/20  2/13/20  2/14/20  2/15/20  2/16/20  2/17/20  \n",
       "0      889      910      934      950      962      973  \n",
       "1      352      366      372      375      380      381  \n",
       "2      518      529      537      544      551      553  \n",
       "3      272      279      281      285      287      290  \n",
       "4       87       90       90       90       90       91  \n",
       "\n",
       "[5 rows x 31 columns]"
      ]
     },
     "execution_count": 18,
     "metadata": {},
     "output_type": "execute_result"
    }
   ],
   "source": [
    "conf_d.head()\n",
    "#death_d.head()\n",
    "#recov_d.head()"
   ]
  },
  {
   "cell_type": "code",
   "execution_count": 19,
   "metadata": {},
   "outputs": [
    {
     "data": {
      "text/plain": [
       "'2020-02-16'"
      ]
     },
     "execution_count": 19,
     "metadata": {},
     "output_type": "execute_result"
    }
   ],
   "source": [
    "import datetime\n",
    "date_txt = list(conf_d.columns)[-2]\n",
    "\n",
    "\n",
    "date_time = date_txt.split(' ')\n",
    "date_2 = date_time[0].split('/')\n",
    "\n",
    "if len(date_2[0])==1:\n",
    "    month_str='0'+date_2[0]\n",
    "else:\n",
    "    month_str=date_2[0]\n",
    "if len(date_2[1])==1:\n",
    "    day_str='0'+date_2[1]\n",
    "else:\n",
    "    day_str=date_2[1]\n",
    "if len(date_2[2])==2:\n",
    "    year_str='20'+date_2[2]\n",
    "else:\n",
    "    year_str=date_2\n",
    "    \n",
    "date_f = '{}-{}-{}'.format(year_str,month_str,day_str)\n",
    "\n",
    "date_f\n",
    "# 2010-01-01"
   ]
  },
  {
   "cell_type": "markdown",
   "metadata": {},
   "source": [
    "# Beta\n",
    "## Scope:\n",
    "\n",
    "* Total Confirmed\n",
    "* Confirmed by Country/Region\n",
    "* Total Deaths\n",
    "* Deaths by Country/Region\n",
    "* Total Recovered\n",
    "* Recovered by Country/Region\n"
   ]
  },
  {
   "cell_type": "code",
   "execution_count": 20,
   "metadata": {},
   "outputs": [],
   "source": [
    "# Total Confirmed\n",
    "\n",
    "conf_d_NumOnly = conf_d.drop(['Lat','Long'], axis =1 )\n",
    "conf_d_NumOnly['Total_Conf']=conf_d_NumOnly.iloc[:,-1]\n",
    "tot_conf = conf_d_NumOnly['Total_Conf'].sum()\n",
    "#conf_d_NumOnly.head()"
   ]
  },
  {
   "cell_type": "code",
   "execution_count": 21,
   "metadata": {},
   "outputs": [
    {
     "data": {
      "text/plain": [
       "73260"
      ]
     },
     "execution_count": 21,
     "metadata": {},
     "output_type": "execute_result"
    }
   ],
   "source": [
    "tot_conf"
   ]
  },
  {
   "cell_type": "code",
   "execution_count": 22,
   "metadata": {},
   "outputs": [
    {
     "data": {
      "text/plain": [
       "Country/Region\n",
       "Mainland China    72364\n",
       "Others              454\n",
       "Singapore            77\n",
       "Japan                66\n",
       "Hong Kong            60\n",
       "Name: Total_Conf, dtype: int64"
      ]
     },
     "execution_count": 22,
     "metadata": {},
     "output_type": "execute_result"
    }
   ],
   "source": [
    "# Confirmed by Country\n",
    "conf_d_country = conf_d_NumOnly.groupby(['Country/Region']).sum()['Total_Conf'].sort_values(ascending=False)\n",
    "\n",
    "conf_d_country.head()\n",
    "#conf_d_country.loc['Hong Kong']"
   ]
  },
  {
   "cell_type": "markdown",
   "metadata": {},
   "source": [
    "## Functions\n",
    "### For getting TOTAL and DF by Country"
   ]
  },
  {
   "cell_type": "code",
   "execution_count": 23,
   "metadata": {},
   "outputs": [],
   "source": [
    "def get_total(df):\n",
    "    #conf_d_NumOnly = conf_d.drop(['Lat','Long'], axis =1 )\n",
    "    df['Total_Conf']=df.iloc[:,-1]\n",
    "    tot_conf = df['Total_Conf'].sum()\n",
    "    \n",
    "    return tot_conf"
   ]
  },
  {
   "cell_type": "code",
   "execution_count": 24,
   "metadata": {},
   "outputs": [],
   "source": [
    "def get_occr_country(df):\n",
    "    #conf_d_NumOnly = conf_d.drop(['Lat','Long'], axis =1 )\n",
    "    df['Total_Conf']=df.iloc[:,-1]    \n",
    "    df = df.groupby(['Country/Region']).sum()['Total_Conf'].sort_values(ascending=False)\n",
    "    \n",
    "    return df #returns DF"
   ]
  },
  {
   "cell_type": "code",
   "execution_count": 25,
   "metadata": {},
   "outputs": [
    {
     "name": "stdout",
     "output_type": "stream",
     "text": [
      "73260\n",
      "1868\n",
      "12583\n"
     ]
    }
   ],
   "source": [
    "tot_conf = get_total(conf_d)\n",
    "tot_death = get_total(death_d)\n",
    "tot_recov = get_total(recov_d)\n",
    "print(tot_conf)\n",
    "print(tot_death)\n",
    "print(tot_recov)\n"
   ]
  },
  {
   "cell_type": "code",
   "execution_count": 26,
   "metadata": {},
   "outputs": [],
   "source": [
    "occr_conf = get_occr_country(conf_d)\n",
    "occr_death = get_occr_country(death_d)\n",
    "occr_recov = get_occr_country(recov_d)\n",
    "#print(occr_conf)\n",
    "#print(occr_death)\n",
    "#print(occr_recov)\n"
   ]
  },
  {
   "cell_type": "markdown",
   "metadata": {},
   "source": [
    "# Compiling code "
   ]
  },
  {
   "cell_type": "code",
   "execution_count": 27,
   "metadata": {},
   "outputs": [
    {
     "name": "stdout",
     "output_type": "stream",
     "text": [
      "Total Confirmed Cases: 73260\n",
      "Total Deaths: 1868\n",
      "Total Recovery Cases: 12583\n"
     ]
    }
   ],
   "source": [
    "# Import Libs\n",
    "import pandas as pd\n",
    "import boto3\n",
    "import datetime\n",
    "import time\n",
    "\n",
    "# Functions\n",
    "def get_total(df):\n",
    "    #conf_d_NumOnly = conf_d.drop(['Lat','Long'], axis =1 )\n",
    "    df['Total_Conf']=df.iloc[:,-1]\n",
    "    tot_conf = df['Total_Conf'].sum()\n",
    "    \n",
    "    return tot_conf\n",
    "\n",
    "def get_occr_country(df):\n",
    "    #conf_d_NumOnly = conf_d.drop(['Lat','Long'], axis =1 )\n",
    "    df['Total_Conf']=df.iloc[:,-1]    \n",
    "    df = df.groupby(['Country/Region']).sum()['Total_Conf'].sort_values(ascending=False)\n",
    "    \n",
    "    return df #returns DF\n",
    "\n",
    "\n",
    "def get_date(df):\n",
    "    # Standar Date Format: 2010-11-31\n",
    "    if list(df.columns)[-1]!='Total_Conf':\n",
    "        date_txt = list(conf_d.columns)[-1]\n",
    "    else:\n",
    "        date_txt = list(conf_d.columns)[-2]\n",
    "    # print(date_txt)\n",
    "    date_time = date_txt.split(' ')\n",
    "    date_2 = date_time[0].split('/')\n",
    "\n",
    "    if len(date_2[0])==1:\n",
    "        month_str='0'+date_2[0]\n",
    "    else:\n",
    "        month_str=date_2[0]\n",
    "    if len(date_2[1])==1:\n",
    "        day_str='0'+date_2[1]\n",
    "    else:\n",
    "        day_str=date_2[1]\n",
    "    if len(date_2[2])==2:\n",
    "        year_str='20'+date_2[2]\n",
    "    else:\n",
    "        year_str=date_2\n",
    "    \n",
    "    date_f = '{}-{}-{}'.format(year_str,month_str,day_str)\n",
    "    return date_f\n",
    "\n",
    "\n",
    "\n",
    "# Time series CSV Urls ( Updated twice daily )\n",
    "#conf_url =  'https://raw.githubusercontent.com/CSSEGISandData/COVID-19/master/time_series/time_series_2019-ncov-Confirmed.csv'\n",
    "#death_url = 'https://raw.githubusercontent.com/CSSEGISandData/COVID-19/master/time_series/time_series_2019-ncov-Deaths.csv'\n",
    "#recov_url = 'https://raw.githubusercontent.com/CSSEGISandData/COVID-19/master/time_series/time_series_2019-ncov-Recovered.csv'\n",
    "\n",
    "# Building Dataframes\n",
    "conf_d  = pd.read_csv(conf_url)\n",
    "death_d  =pd.read_csv(death_url)\n",
    "recov_d  =pd.read_csv(recov_url)\n",
    "\n",
    "# Getting Basic Variables for Dictionary\n",
    "tot_conf = int(get_total(conf_d))\n",
    "tot_death = int(get_total(death_d))\n",
    "tot_recov = int(get_total(recov_d))\n",
    "\n",
    "occr_conf = get_occr_country(conf_d)\n",
    "occr_death = get_occr_country(death_d)\n",
    "occr_recov = get_occr_country(recov_d)\n",
    "\n",
    "print('Total Confirmed Cases: {}'.format(tot_conf))\n",
    "print('Total Deaths: {}'.format(tot_death))\n",
    "print('Total Recovery Cases: {}'.format(tot_recov))\n",
    "#occr_conf.head()\n",
    "#occr_death.head()\n",
    "#occr_recov.head()\n",
    "\n",
    "\n"
   ]
  },
  {
   "cell_type": "code",
   "execution_count": 28,
   "metadata": {},
   "outputs": [
    {
     "name": "stdout",
     "output_type": "stream",
     "text": [
      "Item for Confirmed uploaded\n",
      "Item for Deaths uploaded\n",
      "Item for Recoverys uploaded\n"
     ]
    }
   ],
   "source": [
    "# Connecting to DynamoDb\n",
    "\n",
    "a_data = pd.read_csv('accessKeys.csv')\n",
    "a_key = a_data['Access key ID'][0]\n",
    "a_S_key = a_data['Secret access key'][0]\n",
    "region='us-east-2'\n",
    "\n",
    "dynamodb = boto3.resource(\n",
    "    'dynamodb',\n",
    "    aws_access_key_id=a_key,\n",
    "    aws_secret_access_key=a_S_key,\n",
    "    region_name=region\n",
    ")\n",
    "dynamoTable = dynamodb.Table('Corona_latest')\n",
    "\n",
    "types = {'Confirmed':conf_d, 'Deaths':death_d, 'Recoverys':recov_d}\n",
    "\n",
    "for key in types:\n",
    "    dic = {}\n",
    "    tot_c = int(get_total((types[key])))\n",
    "    date = get_date(types[key])\n",
    "    dic['Date']=date+' '+key\n",
    "    dic['Type']=key\n",
    "    dic['Total Cases']=tot_c\n",
    "    dic['By Country']=[]\n",
    "    \n",
    "    occr_country = get_occr_country(types[key])\n",
    "    for index, value in occr_country.items():\n",
    "        dic2 = {'Country':index, 'Cases':value}\n",
    "        dic['By Country'].append(dic2)\n",
    "\n",
    "    #dynamoTable.put_item(Item=dic)\n",
    "    print('Item for {} uploaded'.format(key))\n",
    "    time.sleep(5)\n"
   ]
  },
  {
   "cell_type": "code",
   "execution_count": 29,
   "metadata": {},
   "outputs": [],
   "source": [
    "# Configuring Access Keys\n",
    "\n",
    "a_data = pd.read_csv('accessKeys.csv')\n",
    "a_key = a_data['Access key ID'][0]\n",
    "a_S_key = a_data['Secret access key'][0]\n",
    "region='us-east-2'\n"
   ]
  },
  {
   "cell_type": "code",
   "execution_count": 30,
   "metadata": {},
   "outputs": [
    {
     "name": "stdout",
     "output_type": "stream",
     "text": [
      "Done Total\n",
      "Done Mainland China\n",
      "Done Others\n",
      "Done Singapore\n",
      "Done Japan\n",
      "Done Hong Kong\n",
      "Done Thailand\n",
      "Done South Korea\n",
      "Done Malaysia\n",
      "Done Taiwan\n",
      "Done Germany\n",
      "Done Vietnam\n",
      "Done Australia\n",
      "Done US\n",
      "Done France\n",
      "Done Macau\n",
      "Done United Arab Emirates\n",
      "Done UK\n",
      "Done Canada\n",
      "Done Philippines\n",
      "Done India\n",
      "Done Italy\n",
      "Done Spain\n",
      "Done Russia\n",
      "Done Sweden\n",
      "Done Sri Lanka\n",
      "Done Nepal\n",
      "Done Finland\n",
      "Done Egypt\n",
      "Done Cambodia\n",
      "Done Belgium\n"
     ]
    }
   ],
   "source": [
    "# Connecting to DynamoDb\n",
    "\n",
    "a_data = pd.read_csv('accessKeys.csv')\n",
    "a_key = a_data['Access key ID'][0]\n",
    "a_S_key = a_data['Secret access key'][0]\n",
    "region='us-east-2'\n",
    "\n",
    "dynamodb = boto3.resource(\n",
    "    'dynamodb',\n",
    "    aws_access_key_id=a_key,\n",
    "    aws_secret_access_key=a_S_key,\n",
    "    region_name=region\n",
    ")\n",
    "dynamoTable = dynamodb.Table('Corona_latest')\n",
    "\n",
    "dic = {'region': 'Total', 'confirmed':int(tot_conf), 'death':int(tot_death), 'recovered':int(tot_recov)}\n",
    "dynamoTable.put_item(Item=dic)\n",
    "print('Done Total')\n",
    "\n",
    "result = pd.concat([occr_conf.rename(\"Confirmed\"), occr_death.rename(\"Death\"), occr_recov.rename(\"Recovered\")],\n",
    "                   axis=1, sort=False)\n",
    "for index, row in result.iterrows():\n",
    "    dic = {'region':index,'confirmed':int(row['Confirmed']),'death': int(row['Death']),'recovered': int(row['Recovered'])}\n",
    "    dynamoTable.put_item(Item=dic)\n",
    "    print('Done {}'.format(index))\n",
    "    \n",
    "\n"
   ]
  },
  {
   "cell_type": "markdown",
   "metadata": {},
   "source": [
    "# Scanning DinamoDB"
   ]
  },
  {
   "cell_type": "code",
   "execution_count": 32,
   "metadata": {},
   "outputs": [],
   "source": [
    "def get_names():\n",
    "    #names = \"\"\n",
    "    dynamodb = boto3.resource(\n",
    "    'dynamodb',\n",
    "    aws_access_key_id=a_key,\n",
    "    aws_secret_access_key=a_S_key,\n",
    "    region_name=region\n",
    "    )\n",
    "    dynamoTable = dynamodb.Table('Corona_latest')\n",
    "    \n",
    "    response = table.scan()\n",
    "    print (response)\n",
    "    \n",
    "    \n",
    "    nameCount == len(response['Items'])\n",
    "    for idx, item in enumerate(response['Items']):\n",
    "        names += item['NameId']\n",
    "        if idx == nameCount - 2:\n",
    "            names += \" and \"\n",
    "        elif idx != nameCount - 1:\n",
    "            names += \", \"\n",
    "    return names"
   ]
  },
  {
   "cell_type": "code",
   "execution_count": 33,
   "metadata": {},
   "outputs": [
    {
     "name": "stdout",
     "output_type": "stream",
     "text": [
      "total confirmed: 73260\n",
      "total death: 1868\n",
      "total death: 12583\n"
     ]
    }
   ],
   "source": [
    "a_data = pd.read_csv('accessKeys.csv')\n",
    "a_key = a_data['Access key ID'][0]\n",
    "a_S_key = a_data['Secret access key'][0]\n",
    "region='us-east-2'\n",
    "\n",
    "\n",
    "dynamodb = boto3.resource(\n",
    "'dynamodb',\n",
    "aws_access_key_id=a_key,\n",
    "aws_secret_access_key=a_S_key,\n",
    "region_name=region\n",
    ")\n",
    "dynamoTable = dynamodb.Table('Corona_latest')\n",
    "\n",
    "response = dynamoTable.scan()\n",
    "\n",
    "df = pd.DataFrame(response['Items']).set_index('region')\n",
    "t_conf = int(df.loc['Total', 'confirmed'])\n",
    "t_death = int(df.loc['Total', 'death'])\n",
    "t_recov = int(df.loc['Total', 'recovered'])\n",
    "\n",
    "print('total confirmed: {}'.format(t_conf))\n",
    "print('total death: {}'.format(t_death))\n",
    "print('total death: {}'.format(t_recov))\n",
    "\n"
   ]
  },
  {
   "cell_type": "code",
   "execution_count": 39,
   "metadata": {},
   "outputs": [],
   "source": [
    "from boto3.dynamodb.conditions import Key, Attr\n",
    "\n",
    "\n",
    "a_data = pd.read_csv('accessKeys.csv')\n",
    "a_key = a_data['Access key ID'][0]\n",
    "a_S_key = a_data['Secret access key'][0]\n",
    "region='us-east-2'\n",
    "\n",
    "\n",
    "dynamodb = boto3.resource(\n",
    "'dynamodb',\n",
    "aws_access_key_id=a_key,\n",
    "aws_secret_access_key=a_S_key,\n",
    "region_name=region\n",
    ")\n",
    "dynamoTable = dynamodb.Table('Corona_latest')\n",
    "\n",
    "#response = dynamoTable.scan()\n",
    "\n",
    "response = dynamoTable.query(\n",
    "    KeyConditionExpression=Key('region').eq('Total')\n",
    ")\n",
    "\n",
    "recovered = response['Items'][0]['recovered']\n",
    "confirmed = response['Items'][0]['confirmed']\n",
    "death = response['Items'][0]['confirmed']\n"
   ]
  },
  {
   "cell_type": "code",
   "execution_count": null,
   "metadata": {},
   "outputs": [],
   "source": []
  }
 ],
 "metadata": {
  "kernelspec": {
   "display_name": "Python 3",
   "language": "python",
   "name": "python3"
  },
  "language_info": {
   "codemirror_mode": {
    "name": "ipython",
    "version": 3
   },
   "file_extension": ".py",
   "mimetype": "text/x-python",
   "name": "python",
   "nbconvert_exporter": "python",
   "pygments_lexer": "ipython3",
   "version": "3.7.3"
  }
 },
 "nbformat": 4,
 "nbformat_minor": 2
}
