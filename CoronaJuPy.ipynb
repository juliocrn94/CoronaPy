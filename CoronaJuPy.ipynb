{
 "cells": [
  {
   "cell_type": "code",
   "execution_count": 1,
   "metadata": {},
   "outputs": [],
   "source": [
    "# Import libs\n",
    "\n",
    "from bs4 import BeautifulSoup as bs\n",
    "import pandas as pd\n",
    "import requests\n",
    "import csv"
   ]
  },
  {
   "cell_type": "code",
   "execution_count": 2,
   "metadata": {},
   "outputs": [],
   "source": [
    "# Time series CSV Urls ( Updated twice daily )\n",
    "conf_url =  'https://raw.githubusercontent.com/CSSEGISandData/COVID-19/master/time_series/time_series_2019-ncov-Confirmed.csv'\n",
    "death_url = 'https://raw.githubusercontent.com/CSSEGISandData/COVID-19/master/time_series/time_series_2019-ncov-Deaths.csv'\n",
    "recov_url = 'https://raw.githubusercontent.com/CSSEGISandData/COVID-19/master/time_series/time_series_2019-ncov-Recovered.csv'\n",
    "\n",
    "# Building Dataframes\n",
    "conf_d  =pd.read_csv(conf_url)\n",
    "death_d  =pd.read_csv(death_url)\n",
    "recov_d  =pd.read_csv(recov_url)\n",
    "\n"
   ]
  },
  {
   "cell_type": "code",
   "execution_count": 3,
   "metadata": {},
   "outputs": [
    {
     "data": {
      "text/html": [
       "<div>\n",
       "<style scoped>\n",
       "    .dataframe tbody tr th:only-of-type {\n",
       "        vertical-align: middle;\n",
       "    }\n",
       "\n",
       "    .dataframe tbody tr th {\n",
       "        vertical-align: top;\n",
       "    }\n",
       "\n",
       "    .dataframe thead th {\n",
       "        text-align: right;\n",
       "    }\n",
       "</style>\n",
       "<table border=\"1\" class=\"dataframe\">\n",
       "  <thead>\n",
       "    <tr style=\"text-align: right;\">\n",
       "      <th></th>\n",
       "      <th>Province/State</th>\n",
       "      <th>Country/Region</th>\n",
       "      <th>Lat</th>\n",
       "      <th>Long</th>\n",
       "      <th>1/21/20 22:00</th>\n",
       "      <th>1/22/20 12:00</th>\n",
       "      <th>1/23/20 12:00</th>\n",
       "      <th>1/24/20 0:00</th>\n",
       "      <th>1/24/20 12:00</th>\n",
       "      <th>1/25/20 0:00</th>\n",
       "      <th>...</th>\n",
       "      <th>2/7/20 22:50</th>\n",
       "      <th>2/8/20 10:24</th>\n",
       "      <th>2/8/20 23:04</th>\n",
       "      <th>2/9/20 10:30</th>\n",
       "      <th>2/9/20 23:20</th>\n",
       "      <th>2/10/20 10:30</th>\n",
       "      <th>2/10/20 19:30</th>\n",
       "      <th>2/11/20 10:50</th>\n",
       "      <th>2/11/20 20:44</th>\n",
       "      <th>2/12/20 10:20</th>\n",
       "    </tr>\n",
       "  </thead>\n",
       "  <tbody>\n",
       "    <tr>\n",
       "      <th>0</th>\n",
       "      <td>Anhui</td>\n",
       "      <td>Mainland China</td>\n",
       "      <td>31.82571</td>\n",
       "      <td>117.2264</td>\n",
       "      <td>NaN</td>\n",
       "      <td>1.0</td>\n",
       "      <td>9.0</td>\n",
       "      <td>15.0</td>\n",
       "      <td>15.0</td>\n",
       "      <td>39.0</td>\n",
       "      <td>...</td>\n",
       "      <td>733.0</td>\n",
       "      <td>733.0</td>\n",
       "      <td>779.0</td>\n",
       "      <td>779.0</td>\n",
       "      <td>830.0</td>\n",
       "      <td>830.0</td>\n",
       "      <td>830.0</td>\n",
       "      <td>860</td>\n",
       "      <td>889</td>\n",
       "      <td>889</td>\n",
       "    </tr>\n",
       "    <tr>\n",
       "      <th>1</th>\n",
       "      <td>Beijing</td>\n",
       "      <td>Mainland China</td>\n",
       "      <td>40.18238</td>\n",
       "      <td>116.4142</td>\n",
       "      <td>10.0</td>\n",
       "      <td>14.0</td>\n",
       "      <td>22.0</td>\n",
       "      <td>26.0</td>\n",
       "      <td>36.0</td>\n",
       "      <td>36.0</td>\n",
       "      <td>...</td>\n",
       "      <td>315.0</td>\n",
       "      <td>315.0</td>\n",
       "      <td>326.0</td>\n",
       "      <td>326.0</td>\n",
       "      <td>337.0</td>\n",
       "      <td>337.0</td>\n",
       "      <td>337.0</td>\n",
       "      <td>342</td>\n",
       "      <td>342</td>\n",
       "      <td>352</td>\n",
       "    </tr>\n",
       "    <tr>\n",
       "      <th>2</th>\n",
       "      <td>Chongqing</td>\n",
       "      <td>Mainland China</td>\n",
       "      <td>30.05718</td>\n",
       "      <td>107.8740</td>\n",
       "      <td>5.0</td>\n",
       "      <td>6.0</td>\n",
       "      <td>9.0</td>\n",
       "      <td>27.0</td>\n",
       "      <td>27.0</td>\n",
       "      <td>57.0</td>\n",
       "      <td>...</td>\n",
       "      <td>426.0</td>\n",
       "      <td>428.0</td>\n",
       "      <td>446.0</td>\n",
       "      <td>450.0</td>\n",
       "      <td>468.0</td>\n",
       "      <td>473.0</td>\n",
       "      <td>486.0</td>\n",
       "      <td>489</td>\n",
       "      <td>505</td>\n",
       "      <td>509</td>\n",
       "    </tr>\n",
       "    <tr>\n",
       "      <th>3</th>\n",
       "      <td>Fujian</td>\n",
       "      <td>Mainland China</td>\n",
       "      <td>26.07783</td>\n",
       "      <td>117.9895</td>\n",
       "      <td>NaN</td>\n",
       "      <td>1.0</td>\n",
       "      <td>5.0</td>\n",
       "      <td>5.0</td>\n",
       "      <td>10.0</td>\n",
       "      <td>10.0</td>\n",
       "      <td>...</td>\n",
       "      <td>239.0</td>\n",
       "      <td>239.0</td>\n",
       "      <td>250.0</td>\n",
       "      <td>250.0</td>\n",
       "      <td>261.0</td>\n",
       "      <td>261.0</td>\n",
       "      <td>261.0</td>\n",
       "      <td>267</td>\n",
       "      <td>272</td>\n",
       "      <td>272</td>\n",
       "    </tr>\n",
       "    <tr>\n",
       "      <th>4</th>\n",
       "      <td>Gansu</td>\n",
       "      <td>Mainland China</td>\n",
       "      <td>36.06110</td>\n",
       "      <td>103.8343</td>\n",
       "      <td>NaN</td>\n",
       "      <td>NaN</td>\n",
       "      <td>2.0</td>\n",
       "      <td>2.0</td>\n",
       "      <td>2.0</td>\n",
       "      <td>4.0</td>\n",
       "      <td>...</td>\n",
       "      <td>71.0</td>\n",
       "      <td>79.0</td>\n",
       "      <td>79.0</td>\n",
       "      <td>79.0</td>\n",
       "      <td>83.0</td>\n",
       "      <td>83.0</td>\n",
       "      <td>86.0</td>\n",
       "      <td>86</td>\n",
       "      <td>86</td>\n",
       "      <td>86</td>\n",
       "    </tr>\n",
       "  </tbody>\n",
       "</table>\n",
       "<p>5 rows × 45 columns</p>\n",
       "</div>"
      ],
      "text/plain": [
       "  Province/State  Country/Region       Lat      Long  1/21/20 22:00  \\\n",
       "0          Anhui  Mainland China  31.82571  117.2264            NaN   \n",
       "1        Beijing  Mainland China  40.18238  116.4142           10.0   \n",
       "2      Chongqing  Mainland China  30.05718  107.8740            5.0   \n",
       "3         Fujian  Mainland China  26.07783  117.9895            NaN   \n",
       "4          Gansu  Mainland China  36.06110  103.8343            NaN   \n",
       "\n",
       "   1/22/20 12:00  1/23/20 12:00  1/24/20 0:00  1/24/20 12:00  1/25/20 0:00  \\\n",
       "0            1.0            9.0          15.0           15.0          39.0   \n",
       "1           14.0           22.0          26.0           36.0          36.0   \n",
       "2            6.0            9.0          27.0           27.0          57.0   \n",
       "3            1.0            5.0           5.0           10.0          10.0   \n",
       "4            NaN            2.0           2.0            2.0           4.0   \n",
       "\n",
       "   ...  2/7/20 22:50  2/8/20 10:24  2/8/20 23:04  2/9/20 10:30  2/9/20 23:20  \\\n",
       "0  ...         733.0         733.0         779.0         779.0         830.0   \n",
       "1  ...         315.0         315.0         326.0         326.0         337.0   \n",
       "2  ...         426.0         428.0         446.0         450.0         468.0   \n",
       "3  ...         239.0         239.0         250.0         250.0         261.0   \n",
       "4  ...          71.0          79.0          79.0          79.0          83.0   \n",
       "\n",
       "   2/10/20 10:30  2/10/20 19:30  2/11/20 10:50  2/11/20 20:44  2/12/20 10:20  \n",
       "0          830.0          830.0            860            889            889  \n",
       "1          337.0          337.0            342            342            352  \n",
       "2          473.0          486.0            489            505            509  \n",
       "3          261.0          261.0            267            272            272  \n",
       "4           83.0           86.0             86             86             86  \n",
       "\n",
       "[5 rows x 45 columns]"
      ]
     },
     "execution_count": 3,
     "metadata": {},
     "output_type": "execute_result"
    }
   ],
   "source": [
    "conf_d.head()\n",
    "#death_d.head()\n",
    "#recov_d.head()"
   ]
  },
  {
   "cell_type": "code",
   "execution_count": 4,
   "metadata": {},
   "outputs": [
    {
     "data": {
      "text/plain": [
       "'2020-02-11'"
      ]
     },
     "execution_count": 4,
     "metadata": {},
     "output_type": "execute_result"
    }
   ],
   "source": [
    "import datetime\n",
    "date_txt = list(conf_d.columns)[-2]\n",
    "\n",
    "\n",
    "date_time = date_txt.split(' ')\n",
    "date_2 = date_time[0].split('/')\n",
    "\n",
    "if len(date_2[0])==1:\n",
    "    month_str='0'+date_2[0]\n",
    "else:\n",
    "    month_str=date_2[0]\n",
    "if len(date_2[1])==1:\n",
    "    day_str='0'+date_2[1]\n",
    "else:\n",
    "    day_str=date_2[1]\n",
    "if len(date_2[2])==2:\n",
    "    year_str='20'+date_2[2]\n",
    "else:\n",
    "    year_str=date_2\n",
    "    \n",
    "date_f = '{}-{}-{}'.format(year_str,month_str,day_str)\n",
    "\n",
    "date_f\n",
    "# 2010-01-01"
   ]
  },
  {
   "cell_type": "markdown",
   "metadata": {},
   "source": [
    "# Beta\n",
    "## Scope:\n",
    "\n",
    "* Total Confirmed\n",
    "* Confirmed by Country/Region\n",
    "* Total Deaths\n",
    "* Deaths by Country/Region\n",
    "* Total Recovered\n",
    "* Recovered by Country/Region\n"
   ]
  },
  {
   "cell_type": "code",
   "execution_count": 5,
   "metadata": {},
   "outputs": [],
   "source": [
    "# Total Confirmed\n",
    "\n",
    "conf_d_NumOnly = conf_d.drop(['Lat','Long'], axis =1 )\n",
    "conf_d_NumOnly['Total_Conf']=conf_d_NumOnly.iloc[:,-1]\n",
    "tot_conf = conf_d_NumOnly['Total_Conf'].sum()\n",
    "#conf_d_NumOnly.head()"
   ]
  },
  {
   "cell_type": "code",
   "execution_count": 6,
   "metadata": {},
   "outputs": [
    {
     "data": {
      "text/plain": [
       "45206"
      ]
     },
     "execution_count": 6,
     "metadata": {},
     "output_type": "execute_result"
    }
   ],
   "source": [
    "tot_conf"
   ]
  },
  {
   "cell_type": "code",
   "execution_count": 7,
   "metadata": {},
   "outputs": [
    {
     "data": {
      "text/plain": [
       "Country/Region\n",
       "Mainland China    44687\n",
       "Others              175\n",
       "Hong Kong            50\n",
       "Singapore            47\n",
       "Thailand             33\n",
       "Name: Total_Conf, dtype: int64"
      ]
     },
     "execution_count": 7,
     "metadata": {},
     "output_type": "execute_result"
    }
   ],
   "source": [
    "# Confirmed by Country\n",
    "conf_d_country = conf_d_NumOnly.groupby(['Country/Region']).sum()['Total_Conf'].sort_values(ascending=False)\n",
    "\n",
    "conf_d_country.head()\n",
    "#conf_d_country.loc['Hong Kong']"
   ]
  },
  {
   "cell_type": "markdown",
   "metadata": {},
   "source": [
    "## Functions\n",
    "### For getting TOTAL and DF by Country"
   ]
  },
  {
   "cell_type": "code",
   "execution_count": 8,
   "metadata": {},
   "outputs": [],
   "source": [
    "def get_total(df):\n",
    "    #conf_d_NumOnly = conf_d.drop(['Lat','Long'], axis =1 )\n",
    "    df['Total_Conf']=df.iloc[:,-1]\n",
    "    tot_conf = df['Total_Conf'].sum()\n",
    "    \n",
    "    return tot_conf"
   ]
  },
  {
   "cell_type": "code",
   "execution_count": 9,
   "metadata": {},
   "outputs": [],
   "source": [
    "def get_occr_country(df):\n",
    "    #conf_d_NumOnly = conf_d.drop(['Lat','Long'], axis =1 )\n",
    "    df['Total_Conf']=df.iloc[:,-1]    \n",
    "    df = df.groupby(['Country/Region']).sum()['Total_Conf'].sort_values(ascending=False)\n",
    "    \n",
    "    return df #returns DF"
   ]
  },
  {
   "cell_type": "code",
   "execution_count": 10,
   "metadata": {},
   "outputs": [
    {
     "name": "stdout",
     "output_type": "stream",
     "text": [
      "45206\n",
      "1117\n",
      "5123\n"
     ]
    }
   ],
   "source": [
    "tot_conf = get_total(conf_d)\n",
    "tot_death = get_total(death_d)\n",
    "tot_recov = get_total(recov_d)\n",
    "print(tot_conf)\n",
    "print(tot_death)\n",
    "print(tot_recov)\n"
   ]
  },
  {
   "cell_type": "code",
   "execution_count": 11,
   "metadata": {},
   "outputs": [],
   "source": [
    "occr_conf = get_occr_country(conf_d)\n",
    "occr_death = get_occr_country(death_d)\n",
    "occr_recov = get_occr_country(recov_d)\n",
    "#print(occr_conf)\n",
    "#print(occr_death)\n",
    "#print(occr_recov)\n"
   ]
  },
  {
   "cell_type": "markdown",
   "metadata": {},
   "source": [
    "# Compiling code "
   ]
  },
  {
   "cell_type": "code",
   "execution_count": 16,
   "metadata": {},
   "outputs": [
    {
     "name": "stdout",
     "output_type": "stream",
     "text": [
      "Total Confirmed Cases: 45206\n",
      "Total Deaths: 1117\n",
      "Total Recovery Cases: 5123\n"
     ]
    }
   ],
   "source": [
    "# Import Libs\n",
    "import pandas as pd\n",
    "import boto3\n",
    "import datetime\n",
    "import time\n",
    "\n",
    "# Functions\n",
    "def get_total(df):\n",
    "    #conf_d_NumOnly = conf_d.drop(['Lat','Long'], axis =1 )\n",
    "    df['Total_Conf']=df.iloc[:,-1]\n",
    "    tot_conf = df['Total_Conf'].sum()\n",
    "    \n",
    "    return tot_conf\n",
    "\n",
    "def get_occr_country(df):\n",
    "    #conf_d_NumOnly = conf_d.drop(['Lat','Long'], axis =1 )\n",
    "    df['Total_Conf']=df.iloc[:,-1]    \n",
    "    df = df.groupby(['Country/Region']).sum()['Total_Conf'].sort_values(ascending=False)\n",
    "    \n",
    "    return df #returns DF\n",
    "\n",
    "\n",
    "def get_date(df):\n",
    "    # Standar Date Format: 2010-11-31\n",
    "    if list(df.columns)[-1]!='Total_Conf':\n",
    "        date_txt = list(conf_d.columns)[-1]\n",
    "    else:\n",
    "        date_txt = list(conf_d.columns)[-2]\n",
    "    # print(date_txt)\n",
    "    date_time = date_txt.split(' ')\n",
    "    date_2 = date_time[0].split('/')\n",
    "\n",
    "    if len(date_2[0])==1:\n",
    "        month_str='0'+date_2[0]\n",
    "    else:\n",
    "        month_str=date_2[0]\n",
    "    if len(date_2[1])==1:\n",
    "        day_str='0'+date_2[1]\n",
    "    else:\n",
    "        day_str=date_2[1]\n",
    "    if len(date_2[2])==2:\n",
    "        year_str='20'+date_2[2]\n",
    "    else:\n",
    "        year_str=date_2\n",
    "    \n",
    "    date_f = '{}-{}-{}'.format(year_str,month_str,day_str)\n",
    "    return date_f\n",
    "\n",
    "\n",
    "\n",
    "# Time series CSV Urls ( Updated twice daily )\n",
    "conf_url =  'https://raw.githubusercontent.com/CSSEGISandData/COVID-19/master/time_series/time_series_2019-ncov-Confirmed.csv'\n",
    "death_url = 'https://raw.githubusercontent.com/CSSEGISandData/COVID-19/master/time_series/time_series_2019-ncov-Deaths.csv'\n",
    "recov_url = 'https://raw.githubusercontent.com/CSSEGISandData/COVID-19/master/time_series/time_series_2019-ncov-Recovered.csv'\n",
    "\n",
    "# Building Dataframes\n",
    "conf_d  = pd.read_csv(conf_url)\n",
    "death_d  =pd.read_csv(death_url)\n",
    "recov_d  =pd.read_csv(recov_url)\n",
    "\n",
    "# Getting Basic Variables for Dictionary\n",
    "tot_conf = int(get_total(conf_d))\n",
    "tot_death = int(get_total(death_d))\n",
    "tot_recov = int(get_total(recov_d))\n",
    "\n",
    "occr_conf = get_occr_country(conf_d)\n",
    "occr_death = get_occr_country(death_d)\n",
    "occr_recov = get_occr_country(recov_d)\n",
    "\n",
    "print('Total Confirmed Cases: {}'.format(tot_conf))\n",
    "print('Total Deaths: {}'.format(tot_death))\n",
    "print('Total Recovery Cases: {}'.format(tot_recov))\n",
    "#occr_conf.head()\n",
    "#occr_death.head()\n",
    "#occr_recov.head()\n",
    "\n",
    "\n"
   ]
  },
  {
   "cell_type": "code",
   "execution_count": 21,
   "metadata": {},
   "outputs": [
    {
     "name": "stdout",
     "output_type": "stream",
     "text": [
      "Item for Confirmed uploaded\n",
      "Item for Deaths uploaded\n",
      "Item for Recoverys uploaded\n"
     ]
    }
   ],
   "source": [
    "# Connecting to DynamoDb\n",
    "\n",
    "a_data = pd.read_csv('accessKeys.csv')\n",
    "a_key = a_data['Access key ID'][0]\n",
    "a_S_key = a_data['Secret access key'][0]\n",
    "region='us-east-2'\n",
    "\n",
    "dynamodb = boto3.resource(\n",
    "    'dynamodb',\n",
    "    aws_access_key_id=a_key,\n",
    "    aws_secret_access_key=a_S_key,\n",
    "    region_name=region\n",
    ")\n",
    "dynamoTable = dynamodb.Table('Corona_latest')\n",
    "\n",
    "types = {'Confirmed':conf_d, 'Deaths':death_d, 'Recoverys':recov_d}\n",
    "\n",
    "for key in types:\n",
    "    dic = {}\n",
    "    tot_c = int(get_total((types[key])))\n",
    "    date = get_date(types[key])\n",
    "    dic['Date']=date+' '+key\n",
    "    dic['Type']=key\n",
    "    dic['Total Cases']=tot_c\n",
    "    dic['By Country']=[]\n",
    "    \n",
    "    occr_country = get_occr_country(types[key])\n",
    "    for index, value in occr_country.items():\n",
    "        dic2 = {'Country':index, 'Cases':value}\n",
    "        dic['By Country'].append(dic2)\n",
    "\n",
    "    #dynamoTable.put_item(Item=dic)\n",
    "    print('Item for {} uploaded'.format(key))\n",
    "    time.sleep(5)\n"
   ]
  },
  {
   "cell_type": "code",
   "execution_count": 13,
   "metadata": {},
   "outputs": [],
   "source": [
    "# Configuring Access Keys\n",
    "\n",
    "#a_data = pd.read_csv('accessKeys.csv')\n",
    "#a_data['Access key ID'][0]\n",
    "#a_data['Secret access key'][0]"
   ]
  },
  {
   "cell_type": "code",
   "execution_count": 27,
   "metadata": {},
   "outputs": [
    {
     "name": "stdout",
     "output_type": "stream",
     "text": [
      "Done Total\n",
      "Done Mainland China\n",
      "Done Others\n",
      "Done Hong Kong\n",
      "Done Singapore\n",
      "Done Thailand\n",
      "Done Japan\n",
      "Done South Korea\n",
      "Done Taiwan\n",
      "Done Malaysia\n",
      "Done Germany\n",
      "Done Vietnam\n",
      "Done Australia\n",
      "Done US\n",
      "Done France\n",
      "Done Macau\n",
      "Done UK\n",
      "Done United Arab Emirates\n",
      "Done Canada\n",
      "Done Philippines\n",
      "Done India\n",
      "Done Italy\n",
      "Done Russia\n",
      "Done Spain\n",
      "Done Sweden\n",
      "Done Sri Lanka\n",
      "Done Finland\n",
      "Done Cambodia\n",
      "Done Belgium\n",
      "Done Nepal\n"
     ]
    }
   ],
   "source": [
    "# Connecting to DynamoDb\n",
    "\n",
    "a_data = pd.read_csv('accessKeys.csv')\n",
    "a_key = a_data['Access key ID'][0]\n",
    "a_S_key = a_data['Secret access key'][0]\n",
    "region='us-east-2'\n",
    "\n",
    "dynamodb = boto3.resource(\n",
    "    'dynamodb',\n",
    "    aws_access_key_id=a_key,\n",
    "    aws_secret_access_key=a_S_key,\n",
    "    region_name=region\n",
    ")\n",
    "dynamoTable = dynamodb.Table('Corona_latest')\n",
    "\n",
    "dic = {'region': 'Total', 'confirmed':int(tot_conf), 'death':int(tot_death), 'recovered':int(tot_recov)}\n",
    "dynamoTable.put_item(Item=dic)\n",
    "print('Done Total')\n",
    "\n",
    "result = pd.concat([occr_conf.rename(\"Confirmed\"), occr_death.rename(\"Death\"), occr_recov.rename(\"Recovered\")],\n",
    "                   axis=1, sort=False)\n",
    "for index, row in result.iterrows():\n",
    "    dic = {'region':index,'confirmed':int(row['Confirmed']),'death': int(row['Death']),'recovered': int(row['Recovered'])}\n",
    "    dynamoTable.put_item(Item=dic)\n",
    "    print('Done {}'.format(index))\n",
    "    \n",
    "\n"
   ]
  }
 ],
 "metadata": {
  "kernelspec": {
   "display_name": "Python 3",
   "language": "python",
   "name": "python3"
  },
  "language_info": {
   "codemirror_mode": {
    "name": "ipython",
    "version": 3
   },
   "file_extension": ".py",
   "mimetype": "text/x-python",
   "name": "python",
   "nbconvert_exporter": "python",
   "pygments_lexer": "ipython3",
   "version": "3.7.3"
  }
 },
 "nbformat": 4,
 "nbformat_minor": 2
}
